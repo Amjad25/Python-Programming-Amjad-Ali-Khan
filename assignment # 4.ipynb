{
 "cells": [
  {
   "cell_type": "code",
   "execution_count": null,
   "metadata": {},
   "outputs": [],
   "source": [
    "# Question 1 -- Making Dictionary For An Individual Bi Data\n",
    "person = {\"first_name\" : \"AMJAD\", \"last_name\" : \"ALI KHAN\", \"age\" : 19, \"city\" : \"KARACHI\"}\n",
    "\n",
    "for key in person:\n",
    "    print(person[key])\n",
    "    \n",
    "person.update({\"qualification\" : \"INTERMEDIATE\"})\n",
    "\n",
    "person[\"qualification\"] = \"GRADUATE\"\n",
    "\n",
    "del person[\"qualification\"]"
   ]
  },
  {
   "cell_type": "code",
   "execution_count": null,
   "metadata": {},
   "outputs": [],
   "source": [
    "#Question 4 -- Making Dictrionary Named Cities For Cities Name and There Information\n",
    "cities = {\"Karachi\" : {\"country\" : \"Pakistan\" , \"population\" : \"14.91 million\", \"fact\" : \"6th most populous city in the world\"}, \n",
    "          \"Lahore\" : {\"country\" : \"Pakistan\" , \"population\" : \"11.13 million\", \"fact\" : \"Largest Punjabi population city in the world\"}, \n",
    "          \"Islamabad\" : {\"country\" : \"Pakistan\", \"population\" : \"1.015 million\", \"fact\" : \"Capital of Pakistan\"}}\n",
    "\n",
    "for city in cities:\n",
    "    print(\"City: \" + city)\n",
    "    for info in cities[city]:\n",
    "        print(info + \": \" + cities[city][info])\n",
    "    print()\n"
   ]
  },
  {
   "cell_type": "code",
   "execution_count": 7,
   "metadata": {},
   "outputs": [
    {
     "name": "stdout",
     "output_type": "stream",
     "text": [
      "Enter 0 to stop\n",
      "\n",
      "Enter your age: 15\n",
      "Your movie ticket costs $15\n",
      "\n",
      "Enter your age: 19\n",
      "Your movie ticket costs $15\n",
      "\n",
      "Enter your age: 3\n",
      "Your movie ticket costs $10\n",
      "\n",
      "Enter your age: 2\n",
      "Your movie ticket is free\n",
      "\n",
      "Enter your age: 0\n"
     ]
    }
   ],
   "source": [
    "# Question 3 -- Movie Theater\n",
    "print(\"Enter 0 to stop\")\n",
    "print()\n",
    "age = int(input(\"Enter your age: \"))\n",
    "while age != 0:\n",
    "    if age < 3:\n",
    "        print(\"Your movie ticket is free\")\n",
    "    elif age > 2 and  age <= 12:\n",
    "        print(\"Your movie ticket costs $10\")\n",
    "    else:\n",
    "        print(\"Your movie ticket costs $15\")\n",
    "    print()\n",
    "    age = int(input(\"Enter your age: \"))"
   ]
  },
  {
   "cell_type": "code",
   "execution_count": 2,
   "metadata": {},
   "outputs": [
    {
     "name": "stdout",
     "output_type": "stream",
     "text": [
      "One of my favorite books is Around The World in 80 Days\n"
     ]
    }
   ],
   "source": [
    "# Question 4 making a function called favorite_book() that accepts one parameter,\n",
    "\n",
    "def favorite_book(title):\n",
    "    print(\"One of my favorite books is \" + title)\n",
    "    \n",
    "favorite_book(\"Around The World in 80 Days\")\n",
    "\n"
   ]
  },
  {
   "cell_type": "code",
   "execution_count": 6,
   "metadata": {},
   "outputs": [
    {
     "name": "stdout",
     "output_type": "stream",
     "text": [
      "Guess a number between 1 and 30\n",
      "\n",
      "Guess the answer: 5\n",
      "Your guess is bigger than the answer\n",
      "Guess the answer: 10\n",
      "Your guess is bigger than the answer\n",
      "Guess the answer: 7\n",
      "Your guess is bigger than the answer\n"
     ]
    }
   ],
   "source": [
    "# Question 5 -- Guess the number game\n",
    "\n",
    "\n",
    "import random\n",
    "\n",
    "attempts = 0\n",
    "ans = random.randint(1,30)\n",
    "print(\"Guess a number between 1 and 30\")\n",
    "print()\n",
    "\n",
    "while attempts < 3:\n",
    "    attempts += 1\n",
    "    guess = int(input(\"Guess the answer: \"))\n",
    "    if guess == ans:\n",
    "        print(\"Correct! You guessed the answer\")\n",
    "        break\n",
    "    elif guess > ans:\n",
    "        print(\"Your guess is bigger than the answer\")\n",
    "    else:\n",
    "        print(\"Your guess is smaller than the answer\")"
   ]
  },
  {
   "cell_type": "code",
   "execution_count": null,
   "metadata": {},
   "outputs": [],
   "source": []
  },
  {
   "cell_type": "code",
   "execution_count": null,
   "metadata": {},
   "outputs": [],
   "source": []
  }
 ],
 "metadata": {
  "kernelspec": {
   "display_name": "Python 3",
   "language": "python",
   "name": "python3"
  },
  "language_info": {
   "codemirror_mode": {
    "name": "ipython",
    "version": 3
   },
   "file_extension": ".py",
   "mimetype": "text/x-python",
   "name": "python",
   "nbconvert_exporter": "python",
   "pygments_lexer": "ipython3",
   "version": "3.7.4"
  }
 },
 "nbformat": 4,
 "nbformat_minor": 2
}
